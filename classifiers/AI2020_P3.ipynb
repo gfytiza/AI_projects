{
  "nbformat": 4,
  "nbformat_minor": 0,
  "metadata": {
    "colab": {
      "name": "ΤΝ2020-P3-(03116059, 03116177).ipynb",
      "provenance": [],
      "collapsed_sections": [],
      "toc_visible": true
    },
    "kernelspec": {
      "name": "python3",
      "display_name": "Python 3"
    }
  },
  "cells": [
    {
      "cell_type": "markdown",
      "metadata": {
        "id": "l60bPj-dJa-7"
      },
      "source": [
        "#**ΘΕΟΦΙΛΟΥ ΠΑΡΑΣΚΕΥΗ-ΑΝΤΩΝΙΑ  03116059**\r\n",
        "\r\n",
        "#**ΦΥΤΙΖΑ ΓΕΩΡΓΙΑ  03116177**"
      ]
    },
    {
      "cell_type": "markdown",
      "metadata": {
        "id": "heT7siZWZjQD"
      },
      "source": [
        "# Τεχνητή Νοημοσύνη: Εργαστηριακή Άσκηση 3 \r\n",
        "Στην άσκηση αυτή θα υλοποιηθούν διάφοροι (σχετικά απλοί) αλγόριθμοι μηχανικής μάθησης για την αναγνώριση ψηφίων από εικόνα στο dataset MNIST. Συγκεκριμένα, θα δίνονται δύο σύνολα δεδομένων $$Ζ_{train}=\\{(x_1,y_1),\\dots,(x_n,y_n)\\}$$ $$Z_{test} = \\{(x_j,y_j),\\dots{,(x_k,y_k)}\\}$$ όπου κάθε $x_i\\in{\\mathbb{R}^p}$ είναι ένα διάνυσμα με τα pixels της κάθε εικόνας και $y_i$ είναι η ετικέτα της εικόνας - ένας ακέραιος στο $[0,9]$. Σε κάθε περίπτωση καλείστε να σχεδιάσετε έναν ταξινομητή, δηλαδή μια απεικόνιση $$f:\\mathbb{R}^p\\rightarrow{[0,9]}$$\r\n",
        "\r\n",
        "## 1ο Μέρος: Αξιολόγηση\r\n",
        "Στο πρώτο μέρος της άσκησης θα υλοποιηθούν συναρτήσεις που θα χρησιμοποιηθούν για την αξιολόγηση των ταξινομητών που θα υλοποιηθούν στα επόμενα μέρη.\r\n",
        "\r\n",
        "## 2ο Μέρος: ΚΝΝ\r\n",
        "Στο δεύτερο μέρος της άσκησης θα υλοποιήσετε τον αλγόριθμο KNN για ταξινόμηση. Υπενθυμίζεται από τις διαφάνειες το πλάνο σχεδιασμού για τον ταξινομητή k κοντινότερων γειτόνων:\r\n",
        "- Αποθηκεύουμε όλα τα δεδομένα ($Z_{train}$) στη μνήμη\r\n",
        "  - Τα δεδομένα μπορούν αποθηκευτούν σε έναν πίνακα $n\\times{p}$ με χρήση του numpy\r\n",
        "- Συγκρίνουμε την είσοδο με τα δεδομένα και βρίσκουμε τα k κοντινότερα ($k<n$) με βάση κάποια απόσταση.\r\n",
        "  - Όταν μας δίνεται μια \"φρέσκια\" εικόνα ως διάνυσμα από pixels $x_i$ χρειαζόμαστε μια συνάρτηση που να υπολογίζει την απόσταση $d(x_i,x_j)$, όπου $x_j$ είναι το διάνυσμα που αντιστιχεί στα pixels μιας εικόνας από τα δεδομένα εκπαίδευσης. Θα πειραματιστείτε με την ευκλείδια απόσταση και την απόσταση συνημιτόνου. Στη συνέχεια ταξινομούνται τα δεδομένα εκπαίδευσης ως προς την απόστασή τους από το $x_i$ και επιλέγονται τα $k$ κοντινότερα\r\n",
        "- Δίνουμε στην έξοδο την κλάση στην οποία ανήκει η πλειοψηφία των k κοντινότερων δεδομένων.\r\n",
        "\r\n",
        "Αφού κατασκευαστεί ο ταξινομητής θα αξιολογήσετε την επίδοσή του στις 100 πρώτες εικόνες του $Z_{test}$ για κάποιες τιμές του k που θα επιλέξετε εσείς, ξεκινώντας από $k=1$.\r\n",
        "\r\n",
        "Στην πράξη πολύ σπάνια θα χρειαστεί να υλοποιήσετε έναν αλγόριθμο μηχανικής μάθησης από το μηδέν, αφού υπάρχουν έτοιμες υλοποιήσεις, π.χ. σε πακέτα της python, οι οποίες είναι βελτιστοποιημένες και εύχρηστες. Το τελευταίο ζητούμενο  στο 1ο μέρος είναι να επαναλάβετε το παραπάνω πείραμα με την έτοιμη υλοποίηση του KNN που παρέχει η βιβλιοθήκη sklearn. Καλείστε να συγκρίνετε τα αποτελέσματα και τους χρόνους εκτέλεσης.\r\n",
        "\r\n",
        "## 3ο Μέρος: Naive Bayes\r\n",
        "Στο τρίτο μέρος της άσκησης θα υλοποιήσετε τον αλγόριθμο Naive Bayes. Ας θυμηθούμε από τις διαφάνειες:\r\n",
        "\r\n",
        "**Υποθέσεις:**\r\n",
        "- Τα χαρακτηριστικά είναι boolean, δηλαδή παίρνουν δύο τιμές\r\n",
        "  - Για το συγκεκριμένο πρόβλημα μπορούμε να στρογγυλοποιήσουμε τις τιμές των pixels από το $[0.0,1.0]\\rightarrow{\\{0,1\\}}$\r\n",
        "- Η πιθανότητα ένα στοιχείο με χαρακτηριστικά x να ανήκει στην κλάση i δίνεται από τον τύπο:\r\n",
        "$$p(i|x)=\\frac{p(i)\\cdot{\\prod_{k=1}^p}p(x^{(k)}|i)}{\\sum_{j=1}^pp(x^{(k)}|j)}$$\r\n",
        "- Για να ταξινομήσουμε ένα διάνυσμα χαρακτηρστικών x σε μια κλάση i επιλέγουμε την κλάση που μεγιστοποιεί την παραπάνω πιθανότητα\r\n",
        "  - Μπορούμε για τη σύγκριση να αγνοήσουμε τον παρονομαστή, αφού για όλες τις κλάσεις θα είναι ίδιος\r\n",
        "\r\n",
        "## 4ο Μέρος: Perceptron\r\n",
        "\r\n",
        "Στο τέταρτο μέρος της άσκησης θα κατασκευάσετε ένα πολυεπίπεδο νευρωνικό δίκτυο. Ο ταξινομητής αυτός θα εκπαιδευτεί στο να ταξινομεί τις εικόνες του mnist σε μια από τις 10 διαφορετικές κλάσεις (από 0 μέχρι 9). Αρχικά θα υλοποιήσετε το μοντέλο αυτό χρησιμοποιώντας αποκλειστικά την βιβλιοθήκη numpy ενώ στην συνέχεια θα χρησιμοποιήσετε μια έτοιμη κλάση για την κατασκευή του ίδιου μοντέλου.  \r\n",
        "\r\n",
        "Ας θυμηθούμε από τις διαφάνειες: \r\n",
        "\r\n",
        "Κάθε MLP αποτελείται από επίπεδα όπου το κάθε ένα από αυτά χωρίζεται στα παρακάτω μέρη: \r\n",
        "\r\n",
        "$$ z(x) = w^Τx + b $$ \r\n",
        "$$ f(x) = a(z(x))$$ \r\n",
        "\r\n",
        "όπου $w$, $b$ είναι τα βάρη του επιπέδου.  Η έξοδος z(x)είναι η απόκριση κάθε νευρώνα πριν την συνάρτηση ενεργοποίησης ενώ η f(x) μετά.  Κάθε επίπεδο συνδέεται με ένα επόμενο του οποίου η είσοδος του αποτελεί την έξοδο (με την συνάρτηση ενεργοποίησης) του προηγούμενου. \r\n",
        "\r\n",
        "Στο μέρος αυτό καλείστε να συμπληρώσετε σε ορισμένα σημεία κώδικα ώστε να επιτυγχάνεται αυτή η λειτουργικότητα. Στην συνέχεια θα υλοποιήσετε το ίδιο ακριβώς μοντέλο χρησιμοποιώντας όμως μια έτοιμη βιβλιοθήκη και θα συγκρίνετε τα αποτελέσματά τους (χρόνο, σκορ κ.α.). "
      ]
    },
    {
      "cell_type": "markdown",
      "metadata": {
        "id": "Rvm0mywsZmit"
      },
      "source": [
        "# 1ο Μέρος: Αξιολόγηση\r\n",
        "\r\n",
        "Παρακάτω σας δίνεται η κλάση Evaluate, η οποία υπολογίζει διάφορες μετρικές στη μέθοδο get_metrics, εντοπίζει αντικείμενα που ταξινομήθηκαν λάθος και τα εμφανίζει (μέθοδος get_sample_of_wrong) και υπολογίζει και τον πίνακα σύγχυσης (confusion matrix) όπου οπτικοποιούνται ανά κατηγορία οι προβλέψεις του ταξινομητή.\r\n",
        "\r\n",
        "Για το μέρος αυτό καλείστε να υλοποιήσετε στη μέθοδο my_accuracy τη μετρική accuracy, η οποία ορίζεται ως:\r\n",
        "$$accuracy = \\frac{\\#σωστών\\_προβλέψεων}{\\#δεδομένα}$$\r\n",
        "\r\n"
      ]
    },
    {
      "cell_type": "code",
      "metadata": {
        "id": "WlTj48uFZhyJ"
      },
      "source": [
        "from sklearn.metrics import confusion_matrix, f1_score, precision_score, recall_score\r\n",
        "from matplotlib import pyplot as plt\r\n",
        "import numpy as np\r\n",
        "import random\r\n",
        "\r\n",
        "class Evaluate:\r\n",
        "    def __init__(self,y_true,y_pred,x):\r\n",
        "      self.y_true = y_true\r\n",
        "      self.y_pred = y_pred\r\n",
        "      self.x = x\r\n",
        "\r\n",
        "    def my_accuracy(self):\r\n",
        "      y_true = self.y_true\r\n",
        "      y_pred = self.y_pred\r\n",
        "      \r\n",
        "      ##################\r\n",
        "      ## Your code below\r\n",
        "      correct=0\r\n",
        "      for i in range (len(y_true)):\r\n",
        "        if y_true[i] == y_pred[i]:\r\n",
        "          correct=correct+1\r\n",
        "      acc=correct/len(y_true)\r\n",
        "      ## Your code above\r\n",
        "      ##################\r\n",
        "      return acc\r\n",
        "\r\n",
        "    def get_metrics(self):\r\n",
        "        precision = precision_score(self.y_true, self.y_pred, average = \"macro\")\r\n",
        "        recall = recall_score(self.y_true, self.y_pred, average = \"macro\")\r\n",
        "        f1 = f1_score(self.y_true, self.y_pred, average = \"macro\")\r\n",
        "        results = {\"precision\" : precision, \"recall\": recall, \"f1\": f1,\"accuracy\":self.my_accuracy()}\r\n",
        "        return results   \r\n",
        "    \r\n",
        "    def confusion_matrix(self):\r\n",
        "        cm = confusion_matrix(self.y_true, self.y_pred)\r\n",
        "        return cm \r\n",
        "\r\n",
        "    def get_sample_of_wrong(self, rows = 5, lines = 4):\r\n",
        "        wrong_indexes = [index for index in range(len(self.y_true)) if self.y_true[index] != self.y_pred[index]]\r\n",
        "        plt.figure(figsize=(10, 10))\r\n",
        "\r\n",
        "        random.shuffle(wrong_indexes)\r\n",
        "        for i, index in enumerate(wrong_indexes[: rows*lines]):\r\n",
        "            plt.subplot(rows, lines, i + 1)\r\n",
        "            image = self.x[index]\r\n",
        "            plt.imshow(image.reshape((28, 28)))\r\n",
        "            plt.title(\"Real: {}, Pred: {}\".format(self.y_true[index], self.y_pred[index]))\r\n",
        "            plt.axis('off')\r\n",
        "\r\n",
        "    def get_evaluation_report(self):\r\n",
        "       metrics = self.get_metrics()\r\n",
        "       for m in metrics:\r\n",
        "         print(m+' : '+str(metrics[m]))\r\n",
        "       cm = self.confusion_matrix()\r\n",
        "       print(\"Confusion matrix: \")\r\n",
        "       print(cm)\r\n",
        "       print(\"Some images with wrong predictions\")\r\n",
        "       self.get_sample_of_wrong()"
      ],
      "execution_count": null,
      "outputs": []
    },
    {
      "cell_type": "markdown",
      "metadata": {
        "id": "3qcSvLy6ZpzB"
      },
      "source": [
        "Παράδειγμα χρήσης της κλάσης. Κανονικά στο x θα υπάρχουν οι εικόνες από το dataset"
      ]
    },
    {
      "cell_type": "code",
      "metadata": {
        "colab": {
          "base_uri": "https://localhost:8080/",
          "height": 294
        },
        "id": "S5hRZ9L1ZoNJ",
        "outputId": "e9a40936-b307-4e8a-b927-017184e333e5"
      },
      "source": [
        "y_true = [1,0,2,0,0,1,1,0]\r\n",
        "y_pred = [0,0,2,0,1,1,0,0]\r\n",
        "x = np.random.rand(8,28*28)\r\n",
        "\r\n",
        "eval = Evaluate(y_true,y_pred,x)\r\n",
        "eval.get_evaluation_report()"
      ],
      "execution_count": null,
      "outputs": [
        {
          "output_type": "stream",
          "text": [
            "precision : 0.7000000000000001\n",
            "recall : 0.6944444444444443\n",
            "f1 : 0.6888888888888888\n",
            "accuracy : 0.625\n",
            "Confusion matrix: \n",
            "[[3 1 0]\n",
            " [2 1 0]\n",
            " [0 0 1]]\n",
            "Some images with wrong predictions\n"
          ],
          "name": "stdout"
        },
        {
          "output_type": "display_data",
          "data": {
            "image/png": "[encoded data removed]",
            "text/plain": [
              "<Figure size 720x720 with 3 Axes>"
            ]
          },
          "metadata": {
            "tags": [],
            "needs_background": "light"
          }
        }
      ]
    },
    {
      "cell_type": "markdown",
      "metadata": {
        "id": "h9Sex6aEZtt9"
      },
      "source": [
        "# Dataset\r\n",
        "\r\n",
        "To MNIST είναι από τα πιο διαδεδομένα σύνολα δεδομένων στη μηχανική μάθηση. Για όσους δουλεύουν στο Google Colab, το κελί που ακολουθεί φορτώνει τα δεδομένα εκπαίδευσης σε έναν πίνακα x_train με τις ετικέτες των δεδομένων στη λίστα y_train, και τα testing δεδομένα αντίστοιχα στα x_test και y_test.\r\n",
        "\r\n",
        "\r\n",
        "Για όσους δεν δουλεύουν στο colab μπορούν να αντικαταστήσουν τις δύο πρώτες γραμμές του κελιού (train_dset = ... και test_dset = ... ) με τον παρακάτω κώδικα:\r\n",
        "```\r\n",
        "mnist_dataframe = pd.read_csv(\r\n",
        "  \"https://download.mlcc.google.com/mledu-datasets/mnist_train_small.csv\",\r\n",
        "  sep=\",\",\r\n",
        "  header=None)\r\n",
        "mnist_dataframe = mnist_dataframe.head(10000)\r\n",
        "\r\n",
        "mnist_dataframe = mnist_dataframe.reindex(np.random.permutation(mnist_dataframe.index))\r\n",
        "train_dset = mnist_dataframe[:7500]\r\n",
        "test_dset = mnist_dataframe[7500:10000]\r\n",
        "```"
      ]
    },
    {
      "cell_type": "code",
      "metadata": {
        "id": "YvbVV9isZrwZ"
      },
      "source": [
        "import pandas as pd\r\n",
        "import numpy as np\r\n",
        "from matplotlib import pyplot as plt\r\n",
        "\r\n",
        "train_dset = pd.read_csv('/content/sample_data/mnist_train_small.csv',header=None)\r\n",
        "test_dset = pd.read_csv('/content/sample_data/mnist_test.csv',header=None)\r\n",
        "## From https://colab.research.google.com/notebooks/mlcc/multi-class_classification_of_handwritten_digits.ipynb#scrollTo=JfFWWvMWDFrR\r\n",
        "def parse_labels_and_features(dataset):\r\n",
        "  \"\"\"Extracts labels and features.\r\n",
        "  \r\n",
        "  This is a good place to scale or transform the features if needed.\r\n",
        "  \r\n",
        "  Args:\r\n",
        "    dataset: A Pandas `Dataframe`, containing the label on the first column and\r\n",
        "      monochrome pixel values on the remaining columns, in row major order.\r\n",
        "  Returns:\r\n",
        "    A `tuple` `(labels, features)`:\r\n",
        "      labels: A Pandas `Series`.\r\n",
        "      features: A Pandas `DataFrame`.\r\n",
        "  \"\"\"\r\n",
        "  labels = dataset[0]\r\n",
        "\r\n",
        "  # DataFrame.loc index ranges are inclusive at both ends.\r\n",
        "  features = dataset.loc[:,1:784]\r\n",
        "  # Scale the data to [0, 1] by dividing out the max value, 255.\r\n",
        "  features = features / 255\r\n",
        "\r\n",
        "  return labels, np.array(features)\r\n",
        "\r\n",
        "def show_image(features):\r\n",
        "  img = features.reshape((28,28))\r\n",
        "  plt.imshow(img)\r\n",
        "  plt.show()\r\n",
        "\r\n",
        "y_train,x_train = parse_labels_and_features(train_dset)\r\n",
        "y_test,x_test = parse_labels_and_features(test_dset)"
      ],
      "execution_count": null,
      "outputs": []
    },
    {
      "cell_type": "markdown",
      "metadata": {
        "id": "B4MX_WMeZwRu"
      },
      "source": [
        "Ποια είναι η μορφή των δεδομένων για μια εικόνα;"
      ]
    },
    {
      "cell_type": "code",
      "metadata": {
        "colab": {
          "base_uri": "https://localhost:8080/"
        },
        "id": "FhDzmllUZvyp",
        "outputId": "0139ebd8-359d-4ca3-c100-cd2692bd8220"
      },
      "source": [
        "print(\"Shape of an image: \"+str(x_train[0].shape))\r\n",
        "print(\"Max value of pixel: \"+str(np.max(x_train[0])))"
      ],
      "execution_count": null,
      "outputs": [
        {
          "output_type": "stream",
          "text": [
            "Shape of an image: (784,)\n",
            "Max value of pixel: 1.0\n"
          ],
          "name": "stdout"
        }
      ]
    },
    {
      "cell_type": "markdown",
      "metadata": {
        "id": "B9B0hgyBZ3Vm"
      },
      "source": [
        "Φορτώνουμε μια τυχαία εικόνα και την εμφανίζουμε, μαζί με την ετικέτα της"
      ]
    },
    {
      "cell_type": "code",
      "metadata": {
        "colab": {
          "base_uri": "https://localhost:8080/",
          "height": 282
        },
        "id": "r3eLiC1nZ00c",
        "outputId": "89bab4e9-0782-4140-c84a-84723b1936e7"
      },
      "source": [
        "i = np.random.randint(0,x_train.shape[0])\r\n",
        "show_image(x_train[i])\r\n",
        "print(\"Label = \" +str(y_train[i]))"
      ],
      "execution_count": null,
      "outputs": [
        {
          "output_type": "display_data",
          "data": {
            "image/png": "[encoded data removed]",
            "text/plain": [
              "<Figure size 432x288 with 1 Axes>"
            ]
          },
          "metadata": {
            "tags": [],
            "needs_background": "light"
          }
        },
        {
          "output_type": "stream",
          "text": [
            "Label = 0\n"
          ],
          "name": "stdout"
        }
      ]
    },
    {
      "cell_type": "markdown",
      "metadata": {
        "id": "bYMke4uRZ8Ae"
      },
      "source": [
        "# 2o Μέρος: Υλοποίηση KNN\r\n",
        "\r\n",
        " Σας δίνεται η κλάση KNN η οποία αρχικοποιείται με ένα σύνολο από δεδομένα x, ετικέτες y και το k για τον αλγόριθμο. Καλείστε να συμπληρώσετε τον κώδικα που λείπει στις μεθόδους distance, get_knn και classify.\r\n",
        "\r\n",
        "Η απόσταση συνημιτόνου μεταξύ δύο διανυσμάτων u,v ορίζεται ως: $$d(u,v)= 1 - \\frac{u\\cdot{v}}{||u||_2||v||_2}$$"
      ]
    },
    {
      "cell_type": "code",
      "metadata": {
        "id": "EMPfT1jTZ51F"
      },
      "source": [
        "## Simple KNN\r\n",
        "\r\n",
        "class KNN:\r\n",
        "  def __init__(self,x,y,k,distance=\"euclidian\"):\r\n",
        "    self.x = x\r\n",
        "    self.y = y\r\n",
        "    self.k = k\r\n",
        "    self.distance = distance\r\n",
        "  \r\n",
        "  \r\n",
        "  ## Compute the distance between the two vectors img1 and img2\r\n",
        "  # hint: use np.linalg.norm for eucledian\r\n",
        "  # hint: use equation given above for cosine\r\n",
        "  def get_distance(self,img1,img2):\r\n",
        "    if self.distance=='euclidian':\r\n",
        "      ##################\r\n",
        "      ## Your code below\r\n",
        "      dist = np.linalg.norm(img1 - img2) \r\n",
        "      ## Your code above\r\n",
        "      ##################\r\n",
        "    elif self.distance=='cosine':\r\n",
        "      ##################\r\n",
        "      ## Your code below\r\n",
        "      dot_prod=np.dot(img1, img2)\r\n",
        "      N1=np.linalg.norm(img1)\r\n",
        "      N2=np.linalg.norm(img2)\r\n",
        "      dist = 1 - (dot_prod/(N1*N2)) \r\n",
        "      ## Your code above\r\n",
        "      ##################\r\n",
        "      pass\r\n",
        "\r\n",
        "    return dist\r\n",
        "\r\n",
        "\r\n",
        "  ## Given an image as a vector, returns indexes of k nearest neighbors\r\n",
        "  def get_knn(self,img):\r\n",
        "    distances = list()\r\n",
        "    x = self.x\r\n",
        "    k = self.k\r\n",
        "    \r\n",
        "    ##################\r\n",
        "    ## Your code below - populate the distances list\r\n",
        "    # hint: you can use a for loop\r\n",
        "    for i in range (len(x)):\r\n",
        "      d=self.get_distance(img,x[i])\r\n",
        "      if ( d != 0 ):\r\n",
        "        distances.append(d)\r\n",
        "\r\n",
        "    ## Your code above\r\n",
        "    ##################\r\n",
        "\r\n",
        "    # Sort distances, and return the indexes of k first elements\r\n",
        "    ans_indexes = np.argsort(distances)[:k]\r\n",
        "    return ans_indexes\r\n",
        "\r\n",
        "\r\n",
        "  ## Given an image as a vector, classify it according to KNN\r\n",
        "  # hint: we have a list of k labels and want to return the most common one\r\n",
        "  def classify(self,img):\r\n",
        "    y = self.y\r\n",
        "    nn_labels = [y[i] for i in self.get_knn(img)]\r\n",
        "    ##################\r\n",
        "    ## Your code below\r\n",
        "    \r\n",
        "    List= nn_labels\r\n",
        "    prediction = max(set(List), key = List.count) \r\n",
        "    ## Your code above\r\n",
        "    ###################\r\n",
        "    return prediction\r\n",
        "\r\n",
        "\r\n",
        "knn = KNN(x_train,y_train,k=5,distance='euclidian')"
      ],
      "execution_count": null,
      "outputs": []
    },
    {
      "cell_type": "code",
      "metadata": {
        "id": "AUGBQ1ARbE6o"
      },
      "source": [
        "knn1 = KNN(x_train,y_train,k=5,distance='cosine')"
      ],
      "execution_count": null,
      "outputs": []
    },
    {
      "cell_type": "markdown",
      "metadata": {
        "id": "B8-o5tn3aH0-"
      },
      "source": [
        "Τώρα που είναι έτοιμος ο ταξινομητής ας δούμε τι προβλέπει σε μεμονομένες εικόνες"
      ]
    },
    {
      "cell_type": "code",
      "metadata": {
        "colab": {
          "base_uri": "https://localhost:8080/",
          "height": 299
        },
        "id": "GTj_vqD5Z-Ex",
        "outputId": "53a032ab-4ff4-4146-e36f-52992ea584af"
      },
      "source": [
        "img = x_test[np.random.randint(0,x_test.shape[0])]\r\n",
        "print(\"Input image: \")\r\n",
        "show_image(img)\r\n",
        "print('Prediction : '+str(knn.classify(img)))"
      ],
      "execution_count": null,
      "outputs": [
        {
          "output_type": "stream",
          "text": [
            "Input image: \n"
          ],
          "name": "stdout"
        },
        {
          "output_type": "display_data",
          "data": {
            "image/png": "[encoded data removed]",
            "text/plain": [
              "<Figure size 432x288 with 1 Axes>"
            ]
          },
          "metadata": {
            "tags": [],
            "needs_background": "light"
          }
        },
        {
          "output_type": "stream",
          "text": [
            "Prediction : 9\n"
          ],
          "name": "stdout"
        }
      ]
    },
    {
      "cell_type": "markdown",
      "metadata": {
        "id": "XCiEi1UUaLzE"
      },
      "source": [
        "## Αξιολόγηση του KNN"
      ]
    },
    {
      "cell_type": "code",
      "metadata": {
        "id": "tKw0oa1jaJei"
      },
      "source": [
        "## Παίρνουμε όλες τις προβλέψεις στο test set (πρώτες 100 εικόνες)\r\n",
        "## ..υπομονή μερικά λεπτά\r\n",
        "preds = [knn.classify(x_test[i]) for i in range(100)]\r\n",
        "labels = [y_test[i] for i in range(100)]"
      ],
      "execution_count": null,
      "outputs": []
    },
    {
      "cell_type": "code",
      "metadata": {
        "id": "8saJxW_ybNtU"
      },
      "source": [
        "preds1 = [knn1.classify(x_test[i]) for i in range(100)]\r\n",
        "labels1 = [y_test[i] for i in range(100)]"
      ],
      "execution_count": null,
      "outputs": []
    },
    {
      "cell_type": "code",
      "metadata": {
        "colab": {
          "base_uri": "https://localhost:8080/",
          "height": 430
        },
        "id": "t88xFsWTbVKn",
        "outputId": "470e9b9a-f1e9-4931-e7ed-70243fb20e28"
      },
      "source": [
        "print(\"Distance = 'cosine'\")\r\n",
        "eval1 = Evaluate(labels1,preds1,x_test[:100])\r\n",
        "eval1.get_evaluation_report()"
      ],
      "execution_count": null,
      "outputs": [
        {
          "output_type": "stream",
          "text": [
            "Distance = 'cosine'\n",
            "precision : 0.9888888888888889\n",
            "recall : 0.9928571428571429\n",
            "f1 : 0.9904139433551198\n",
            "accuracy : 0.99\n",
            "Confusion matrix: \n",
            "[[ 8  0  0  0  0  0  0  0  0  0]\n",
            " [ 0 14  0  0  0  0  0  0  0  0]\n",
            " [ 0  0  8  0  0  0  0  0  0  0]\n",
            " [ 0  0  0 11  0  0  0  0  0  0]\n",
            " [ 1  0  0  0 13  0  0  0  0  0]\n",
            " [ 0  0  0  0  0  7  0  0  0  0]\n",
            " [ 0  0  0  0  0  0 10  0  0  0]\n",
            " [ 0  0  0  0  0  0  0 15  0  0]\n",
            " [ 0  0  0  0  0  0  0  0  2  0]\n",
            " [ 0  0  0  0  0  0  0  0  0 11]]\n",
            "Some images with wrong predictions\n"
          ],
          "name": "stdout"
        },
        {
          "output_type": "display_data",
          "data": {
            "image/png": "[encoded data removed]",
            "text/plain": [
              "<Figure size 720x720 with 1 Axes>"
            ]
          },
          "metadata": {
            "tags": [],
            "needs_background": "light"
          }
        }
      ]
    },
    {
      "cell_type": "code",
      "metadata": {
        "colab": {
          "base_uri": "https://localhost:8080/",
          "height": 430
        },
        "id": "yNVygiKCaNag",
        "outputId": "96564973-ce6c-4e7e-8143-8da0984a97ca"
      },
      "source": [
        "print(\"Distance = 'euclidian'\")\r\n",
        "eval = Evaluate(labels,preds,x_test[:100])\r\n",
        "eval.get_evaluation_report()"
      ],
      "execution_count": null,
      "outputs": [
        {
          "output_type": "stream",
          "text": [
            "Distance = 'euclidian'\n",
            "precision : 0.9749019607843138\n",
            "recall : 0.9568181818181818\n",
            "f1 : 0.962567733990148\n",
            "accuracy : 0.96\n",
            "Confusion matrix: \n",
            "[[ 8  0  0  0  0  0  0  0  0  0]\n",
            " [ 0 14  0  0  0  0  0  0  0  0]\n",
            " [ 0  1  6  0  0  0  0  1  0  0]\n",
            " [ 0  0  0 11  0  0  0  0  0  0]\n",
            " [ 0  0  0  0 14  0  0  0  0  0]\n",
            " [ 0  0  0  0  0  7  0  0  0  0]\n",
            " [ 0  0  0  0  0  0 10  0  0  0]\n",
            " [ 0  0  0  0  0  0  0 15  0  0]\n",
            " [ 0  0  0  0  0  0  0  0  2  0]\n",
            " [ 0  0  0  0  1  0  0  1  0  9]]\n",
            "Some images with wrong predictions\n"
          ],
          "name": "stdout"
        },
        {
          "output_type": "display_data",
          "data": {
            "image/png": "[encoded data removed]",
            "text/plain": [
              "<Figure size 720x720 with 4 Axes>"
            ]
          },
          "metadata": {
            "tags": [],
            "needs_background": "light"
          }
        }
      ]
    },
    {
      "cell_type": "markdown",
      "metadata": {
        "id": "V7LP247HaU6m"
      },
      "source": [
        "## Έτοιμος ΚΝΝ classifier\r\n",
        "\r\n",
        "Όπως και με τους περισσότερους αλγορίθμους μηχανικής μάθησης, υπάρχουν έτοιμες βελτιστοποιημένες υλοποιήσεις. Παρακάτω δείχνουμε ένα παράδειγμα χρήσης του ταξινομητή ΚΝΝ που παρέχει η βιβλιοθήκη sklearn: [documentation](https://scikit-learn.org/stable/modules/generated/sklearn.neighbors.KNeighborsClassifier.html)"
      ]
    },
    {
      "cell_type": "code",
      "metadata": {
        "colab": {
          "base_uri": "https://localhost:8080/",
          "height": 413
        },
        "id": "Os0WCL-QaOnr",
        "outputId": "54efcf78-f132-49aa-cfa8-a4e8489d4d1c"
      },
      "source": [
        "from sklearn.neighbors import KNeighborsClassifier\r\n",
        "\r\n",
        "k = 5\r\n",
        "knc = KNeighborsClassifier(n_neighbors=k)\r\n",
        "knc.fit(x_train, y_train)\r\n",
        "y_pred = knc.predict(x_test[:100])\r\n",
        "\r\n",
        "eval = Evaluate(y_test[:100],y_pred,x_test[:100])\r\n",
        "eval.get_evaluation_report()"
      ],
      "execution_count": null,
      "outputs": [
        {
          "output_type": "stream",
          "text": [
            "precision : 0.9749019607843138\n",
            "recall : 0.9568181818181818\n",
            "f1 : 0.962567733990148\n",
            "accuracy : 0.96\n",
            "Confusion matrix: \n",
            "[[ 8  0  0  0  0  0  0  0  0  0]\n",
            " [ 0 14  0  0  0  0  0  0  0  0]\n",
            " [ 0  1  6  0  0  0  0  1  0  0]\n",
            " [ 0  0  0 11  0  0  0  0  0  0]\n",
            " [ 0  0  0  0 14  0  0  0  0  0]\n",
            " [ 0  0  0  0  0  7  0  0  0  0]\n",
            " [ 0  0  0  0  0  0 10  0  0  0]\n",
            " [ 0  0  0  0  0  0  0 15  0  0]\n",
            " [ 0  0  0  0  0  0  0  0  2  0]\n",
            " [ 0  0  0  0  1  0  0  1  0  9]]\n",
            "Some images with wrong predictions\n"
          ],
          "name": "stdout"
        },
        {
          "output_type": "display_data",
          "data": {
            "image/png": "[encoded data removed]",
            "text/plain": [
              "<Figure size 720x720 with 4 Axes>"
            ]
          },
          "metadata": {
            "tags": [],
            "needs_background": "light"
          }
        }
      ]
    },
    {
      "cell_type": "markdown",
      "metadata": {
        "id": "RcUBX2XMaZUd"
      },
      "source": [
        "## Σύκγριση υλοποιήσεων\r\n",
        "\r\n",
        "Στα παρακάτω κελιά πειραματιστείτε με τις δύο υλοποιήσεις (τη δική σας και την έτοιμη). Βεβαιωθείτε πως προκύπτουν τα ίδια αποτελέσματα για διάφορες τιμές του k (για ευκλείδια απόσταση) και μετρήστε τους χρόνους εκτέλεσης."
      ]
    },
    {
      "cell_type": "code",
      "metadata": {
        "colab": {
          "base_uri": "https://localhost:8080/"
        },
        "id": "8Yz_Y_cpaWor",
        "outputId": "23fe5fb9-c510-4e4a-f411-9561ed49cce4"
      },
      "source": [
        "%%time\r\n",
        "knn = KNN(x_train,y_train,k=5,distance='euclidian')\r\n",
        "preds = [knn.classify(x_test[i]) for i in range(100)]"
      ],
      "execution_count": null,
      "outputs": [
        {
          "output_type": "stream",
          "text": [
            "CPU times: user 23.5 s, sys: 77.9 ms, total: 23.5 s\n",
            "Wall time: 23.6 s\n"
          ],
          "name": "stdout"
        }
      ]
    },
    {
      "cell_type": "code",
      "metadata": {
        "colab": {
          "base_uri": "https://localhost:8080/"
        },
        "id": "77s6o3ZkabCY",
        "outputId": "bab9371b-563c-484b-9858-3b7babfc318f"
      },
      "source": [
        "%%time\r\n",
        "knc = KNeighborsClassifier(n_neighbors=5)\r\n",
        "knc.fit(x_train, y_train)\r\n",
        "y_pred = knc.predict(x_test[:100])"
      ],
      "execution_count": null,
      "outputs": [
        {
          "output_type": "stream",
          "text": [
            "CPU times: user 6.66 s, sys: 6.01 ms, total: 6.66 s\n",
            "Wall time: 6.69 s\n"
          ],
          "name": "stdout"
        }
      ]
    },
    {
      "cell_type": "code",
      "metadata": {
        "id": "SlwhCZERm3KL"
      },
      "source": [
        "accE=[]\r\n",
        "timesE =[]\r\n",
        "for x in range (1,13,2):\r\n",
        "  from time import time\r\n",
        "  t = time()\r\n",
        "  knn = KNN(x_train,y_train,k=x,distance='euclidian')\r\n",
        "  preds = [knn.classify(x_test[i]) for i in range(100)]\r\n",
        "  labels = [y_test[i] for i in range(100)]\r\n",
        "  #print(\"Distance = 'euclidian'\")\r\n",
        "  eval = Evaluate(labels,preds,x_test[:100])\r\n",
        "  accE.append(eval.my_accuracy())\r\n",
        "  timesE.append(time()-t)\r\n",
        "\r\n",
        "accC=[]\r\n",
        "timesC =[]\r\n",
        "for x in range (1,13,2):\r\n",
        "  from time import time\r\n",
        "  t = time()\r\n",
        "  knn = KNN(x_train,y_train,k=x,distance='cosine')\r\n",
        "  preds = [knn.classify(x_test[i]) for i in range(100)]\r\n",
        "  labels = [y_test[i] for i in range(100)]\r\n",
        "  #print(\"Distance = 'euclidian'\")\r\n",
        "  eval = Evaluate(labels,preds,x_test[:100])\r\n",
        "  accC.append(eval.my_accuracy())\r\n",
        "  timesC.append(time()-t)\r\n",
        "acc=[]\r\n",
        "times =[]\r\n",
        "for x in range (1,13,2):\r\n",
        "  from time import time\r\n",
        "  t = time()\r\n",
        "  knc = KNeighborsClassifier(n_neighbors=x)\r\n",
        "  knc.fit(x_train, y_train)\r\n",
        "  y_pred = knc.predict(x_test[:100])\r\n",
        "\r\n",
        "  eval = Evaluate(y_test[:100],y_pred,x_test[:100])\r\n",
        "  acc.append(eval.my_accuracy())\r\n",
        "  times.append(time()-t)"
      ],
      "execution_count": null,
      "outputs": []
    },
    {
      "cell_type": "code",
      "metadata": {
        "colab": {
          "base_uri": "https://localhost:8080/",
          "height": 227
        },
        "id": "zADTuwvR6Fs7",
        "outputId": "1a32c6e8-c26a-4000-e024-afed12614d5c"
      },
      "source": [
        "import matplotlib.pyplot as plt\r\n",
        "\r\n",
        "\r\n",
        "t = list(range(1,13,2))\r\n",
        "\r\n",
        "fig, (ax1, ax2) = plt.subplots(1,2, figsize=(10,3))\r\n",
        "ax1.set_title('Time')\r\n",
        "ax1.plot(t, timesE, lw=2, label='Euclidean', color='red')\r\n",
        "ax1.plot(t, timesC, lw=2, label='Cosine', color='blue')\r\n",
        "ax1.plot(t, times, lw=2, label='kNN', color='black')\r\n",
        "leg = ax1.legend(fancybox=True, shadow=True)\r\n",
        "\r\n",
        "ax2.set_title('Accuracy')\r\n",
        "ax2.plot(t, accE, lw=2, label='Euclidean', color='red')\r\n",
        "ax2.plot(t, accC, lw=2, label='Cosine', color='blue')\r\n",
        "ax2.plot(t, acc, lw=2, label='kNN', color='black')\r\n",
        "leg2 = ax2.legend(fancybox=True, shadow=True)"
      ],
      "execution_count": null,
      "outputs": [
        {
          "output_type": "display_data",
          "data": {
            "image/png": "[encoded data removed]",
            "text/plain": [
              "<Figure size 720x216 with 2 Axes>"
            ]
          },
          "metadata": {
            "tags": [],
            "needs_background": "light"
          }
        }
      ]
    },
    {
      "cell_type": "markdown",
      "metadata": {
        "id": "bc9ySKoRaek-"
      },
      "source": [
        "## Σχολιασμός\r\n",
        "Παρατήρουμε στις γραφικές παραστάσεις, όπως ήταν αναμενομένο ότι ο έτοιμος kNN με τον kNN που υλοποιήσαμε για την ευκλείδια απόσταση έχουν τις ίδιες τιμές για την μετρική accuracy. Αυτό είναι λογικό, καθώς ο default kNN ταξινομητής της βιβλιοθήκης sklearn υπολογίζει την ευκλείδια απόσταση.\r\n",
        "\r\n",
        "Ακόμη, παρατηρούμε ότι σε όλες τις δοκιμές που πραγματοποιήθηκαν η μετρική accuracy παραμένη υψηλή 93-100%. Παρόλα αυτά οι καλύτερες επιδόσεις επιτυγχάνονται για μικρές τιμές του k και για απόσταση υπολογισμένη με cosine.\r\n",
        "\r\n",
        "Τέλος, ο χρόνος που χρειάστηκε για να εκπαιδευτούν και να προβλέψουν οι ταξινομητές μας είναι εμφανώς μικρότερος για τον ετοίμο ταξινομητή. Αυτό ήταν αναμενόμενο καθώς η βιβλιοθήκη χρησιμοποιεί πιο βελτιωμένες λειτουργίες. Επιπλέον, οι ταξινομητές που υπολογίζουν cosine απόσταση απαιτούν περισσότερο χρόνο από εκείνους που υπολογίζουν ευκλείδια απόσταση."
      ]
    },
    {
      "cell_type": "markdown",
      "metadata": {
        "id": "Xe17UwwLag5Y"
      },
      "source": [
        "# 3ο Μέρος: Naive Bayes\r\n",
        "\r\n",
        "Αρχικά στρογγυλοποιούμε τις τιμές των pixels για να παίρνουν διακριτές τιμές στο $\\{0,1\\}$"
      ]
    },
    {
      "cell_type": "code",
      "metadata": {
        "colab": {
          "base_uri": "https://localhost:8080/",
          "height": 265
        },
        "id": "GNbBhsg2ach8",
        "outputId": "88d8dd78-d081-4b05-9f5e-e608fa119ca5"
      },
      "source": [
        "## Στρογγυλοποίηση:\r\n",
        "x_train_r = np.round(x_train)\r\n",
        "x_test_r = np.round(x_test)\r\n",
        "show_image(x_test_r[0])"
      ],
      "execution_count": null,
      "outputs": [
        {
          "output_type": "display_data",
          "data": {
            "image/png": "[encoded data removed]",
            "text/plain": [
              "<Figure size 432x288 with 1 Axes>"
            ]
          },
          "metadata": {
            "tags": [],
            "needs_background": "light"
          }
        }
      ]
    },
    {
      "cell_type": "markdown",
      "metadata": {
        "id": "lFORd6XJakZl"
      },
      "source": [
        "Παρακάτω σας δίνεται η κλάση NaiveBayes που υλοποιεί τον αλγόριθμο. Καλείστε αρχικά να υπολογίσετε την πιθανότητα $p(x^{(k)}|i)$ για διάνυσμα χαρακτηριστκών $x$ και κατηγορία $i$ στη μέθοδο compute_probabilities. Στη συνέχεια θα υπολογίσετε την πιθανότητα $p(i|x)$ στη μέθοδο predict."
      ]
    },
    {
      "cell_type": "code",
      "metadata": {
        "id": "ufKo5f5yaiqH"
      },
      "source": [
        "class NaiveBayes:\r\n",
        "  def __init__(self,x,y):\r\n",
        "    self.x = x\r\n",
        "    self.y = y\r\n",
        "    ## pC is a vector with the probability of each class\r\n",
        "    self.pC = np.zeros((10,))\r\n",
        "    ## pxC is an array with all probabilities p(xi|C)\r\n",
        "    self.pxC = np.zeros((x.shape[-1],10))\r\n",
        "    ## Compute the probabilities\r\n",
        "    self.compute_probabilities()\r\n",
        "\r\n",
        "  def compute_probabilities(self):\r\n",
        "    ## Compute p(C) for each class\r\n",
        "    for label in self.y:\r\n",
        "      self.pC[label]+=1\r\n",
        "    self.pC = self.pC/self.y.shape[0]\r\n",
        "\r\n",
        "    ## Compute p(xi|C) for each feature xi and class C\r\n",
        "    # hint: you can use one or more for loops\r\n",
        "    ###################\r\n",
        "    ## Your code below\r\n",
        "    for instance in range (self.x.shape[0]):\r\n",
        "      for i in range (self.x.shape[1]):\r\n",
        "        if ( self.x[instance][i] == 1 ):\r\n",
        "          self.pxC[i][self.y[instance]] += 1\r\n",
        "    self.pxC = np.divide(self.pxC, self.pC*self.y.shape[0]) \r\n",
        "    #self.pxC = self.pxC/self.y.shape[0]\r\n",
        "\r\n",
        "    \r\n",
        "    ## Your code above\r\n",
        "    ##################\r\n",
        "\r\n",
        "  def predict(self,x):\r\n",
        "    ## ~Probability of x belonging to each class\r\n",
        "    ## (not actucal probability since we ignore denominator)\r\n",
        "    pcX = np.ones((10,))\r\n",
        "    for i in range(10):\r\n",
        "      # hint: We have probabilities p({x_j=1}|i) in self.pxC\r\n",
        "      # We also need p({x_j=0}|i) for computing p(x|i)\r\n",
        "      #################\r\n",
        "      ## Your code below\r\n",
        "      for j in range (x.shape[0]):\r\n",
        "        if (x[j] == 0):\r\n",
        "          pcX[i]=pcX[i]*(1-self.pxC[j][i])\r\n",
        "        else:\r\n",
        "          pcX[i]=pcX[i]*self.pxC[j][i]\r\n",
        "        pass\r\n",
        "      pcX[i]=pcX[i]*self.pC[i]\r\n",
        "      ## Your code above\r\n",
        "      ##################\r\n",
        "    return np.argmax(pcX)"
      ],
      "execution_count": null,
      "outputs": []
    },
    {
      "cell_type": "markdown",
      "metadata": {
        "id": "cO9h_Q8bbAgF"
      },
      "source": [
        "## Αξιολόγηση του Naive Bayes"
      ]
    },
    {
      "cell_type": "code",
      "metadata": {
        "colab": {
          "base_uri": "https://localhost:8080/",
          "height": 750
        },
        "id": "2PzuaP48amDv",
        "outputId": "c9b89d20-d421-4a39-80ea-a9ca65a0672c"
      },
      "source": [
        "nb = NaiveBayes(x_train_r,y_train)\r\n",
        "preds = [ nb.predict(i) for i in x_test_r[:100]]\r\n",
        "eval = Evaluate(y_test[:100], preds, x_test_r[:100])\r\n",
        "eval.get_evaluation_report()"
      ],
      "execution_count": null,
      "outputs": [
        {
          "output_type": "stream",
          "text": [
            "precision : 0.8400974025974026\n",
            "recall : 0.850108225108225\n",
            "f1 : 0.8261529454950507\n",
            "accuracy : 0.85\n",
            "Confusion matrix: \n",
            "[[ 7  0  0  0  0  0  0  0  1  0]\n",
            " [ 0 13  0  1  0  0  0  0  0  0]\n",
            " [ 0  0  7  1  0  0  0  0  0  0]\n",
            " [ 0  0  1 10  0  0  0  0  0  0]\n",
            " [ 1  0  0  0 12  0  0  0  0  1]\n",
            " [ 0  0  0  2  1  4  0  0  0  0]\n",
            " [ 0  0  2  0  0  0  8  0  0  0]\n",
            " [ 0  0  1  0  0  0  0 13  0  1]\n",
            " [ 0  0  0  0  0  0  0  0  2  0]\n",
            " [ 0  0  0  0  1  0  0  0  1  9]]\n",
            "Some images with wrong predictions\n"
          ],
          "name": "stdout"
        },
        {
          "output_type": "display_data",
          "data": {
            "image/png": "[encoded data removed]",
            "text/plain": [
              "<Figure size 720x720 with 15 Axes>"
            ]
          },
          "metadata": {
            "tags": [],
            "needs_background": "light"
          }
        }
      ]
    },
    {
      "cell_type": "markdown",
      "metadata": {
        "id": "xMUHg-dubFa2"
      },
      "source": [
        "## Έτοιμος Naive Bayes\r\n",
        "\r\n",
        "Όπως με τους περισσότερους αλγορίθμους μηχανικής μάθησης, υπάρχουν έτοιμες βελτιστοποιημένες υλοποιήσεις για τον Naive Bayes. Παρακάτω ο Gaussian Naive Bayes από το SKLearn. Σε αντίθεση με τη δική μας υλοποίηση, ο συγκεκριμένος δουλεύει και με συνεχή δεδομένα, αφού πρώτα κάνει την υπόθεση πως κάθε χαρακτηριστικό ακολουθεί κανονική κατανομή: [documentation](https://scikit-learn.org/stable/modules/generated/sklearn.naive_bayes.GaussianNB.html)"
      ]
    },
    {
      "cell_type": "code",
      "metadata": {
        "colab": {
          "base_uri": "https://localhost:8080/",
          "height": 917
        },
        "id": "Lc7CCDfSbCPh",
        "outputId": "6fbebd41-6862-4c19-bf91-91afd72f15e9"
      },
      "source": [
        "from sklearn.naive_bayes import GaussianNB\r\n",
        "\r\n",
        "gnb = GaussianNB()\r\n",
        "y_pred = gnb.fit(x_train, y_train).predict(x_test[:100])\r\n",
        "\r\n",
        "eval = Evaluate(y_test[:100], y_pred, x_test[:100])\r\n",
        "eval.get_evaluation_report()"
      ],
      "execution_count": null,
      "outputs": [
        {
          "output_type": "stream",
          "text": [
            "/usr/local/lib/python3.6/dist-packages/sklearn/metrics/_classification.py:1272: UndefinedMetricWarning: Precision is ill-defined and being set to 0.0 in labels with no predicted samples. Use `zero_division` parameter to control this behavior.\n",
            "  _warn_prf(average, modifier, msg_start, len(result))\n"
          ],
          "name": "stderr"
        },
        {
          "output_type": "stream",
          "text": [
            "precision : 0.5992985558502799\n",
            "recall : 0.5716774891774892\n",
            "f1 : 0.5081873844349185\n",
            "accuracy : 0.6\n",
            "Confusion matrix: \n",
            "[[ 7  0  0  0  0  0  0  0  0  1]\n",
            " [ 0 14  0  0  0  0  0  0  0  0]\n",
            " [ 3  0  2  0  0  0  2  0  0  1]\n",
            " [ 0  0  1  3  0  0  1  0  5  1]\n",
            " [ 1  1  0  0  4  0  0  0  0  8]\n",
            " [ 2  0  0  0  1  0  0  0  3  1]\n",
            " [ 0  0  0  0  0  0 10  0  0  0]\n",
            " [ 0  0  1  0  0  0  0  8  0  6]\n",
            " [ 1  0  0  0  0  0  0  0  1  0]\n",
            " [ 0  0  0  0  0  0  0  0  0 11]]\n",
            "Some images with wrong predictions\n"
          ],
          "name": "stdout"
        },
        {
          "output_type": "display_data",
          "data": {
            "image/png": "[encoded data removed]",
            "text/plain": [
              "<Figure size 720x720 with 20 Axes>"
            ]
          },
          "metadata": {
            "tags": [],
            "needs_background": "light"
          }
        }
      ]
    },
    {
      "cell_type": "markdown",
      "metadata": {
        "id": "KaecLreybI-3"
      },
      "source": [
        "## Σύγκριση υλοποιήσεων\r\n",
        "\r\n",
        "Όμοια με πριν θα συγκρίνετε τα αποτελέσματα και τους χρόνους εκτέλεσης για τις δύο υλοποιήσεις. Για την έτοιμη υλοποίηση του sklearn δοκιμάστε και το σύνολο x_train_r όπου είναι στρογγυλοποιήμενα τα pixels και το σύνολο x_train οπου παίρνουν συνεχείς τιμές. Σχολιάστε την επίδοση σε κάθε περίπτωση. Ποιες από τις παραδοχές που κάναμε δεν ισχύουν;"
      ]
    },
    {
      "cell_type": "code",
      "metadata": {
        "colab": {
          "base_uri": "https://localhost:8080/",
          "height": 917
        },
        "id": "hquYcl0SBqd2",
        "outputId": "aa7283a5-1bae-4d45-d2e7-1d63512076eb"
      },
      "source": [
        "from sklearn.naive_bayes import GaussianNB\r\n",
        "\r\n",
        "gnb = GaussianNB()\r\n",
        "y_pred = gnb.fit(x_train_r, y_train).predict(x_test[:100])\r\n",
        "\r\n",
        "eval = Evaluate(y_test[:100], y_pred, x_test_r[:100])\r\n",
        "eval.get_evaluation_report()"
      ],
      "execution_count": null,
      "outputs": [
        {
          "output_type": "stream",
          "text": [
            "/usr/local/lib/python3.6/dist-packages/sklearn/metrics/_classification.py:1272: UndefinedMetricWarning: Precision is ill-defined and being set to 0.0 in labels with no predicted samples. Use `zero_division` parameter to control this behavior.\n",
            "  _warn_prf(average, modifier, msg_start, len(result))\n"
          ],
          "name": "stderr"
        },
        {
          "output_type": "stream",
          "text": [
            "precision : 0.5640341880341879\n",
            "recall : 0.5390476190476191\n",
            "f1 : 0.4705090199655418\n",
            "accuracy : 0.57\n",
            "Confusion matrix: \n",
            "[[ 7  0  0  0  0  0  0  0  0  1]\n",
            " [ 0 14  0  0  0  0  0  0  0  0]\n",
            " [ 4  0  1  0  0  0  2  0  0  1]\n",
            " [ 0  1  1  2  0  0  1  0  5  1]\n",
            " [ 1  1  0  0  5  0  0  0  1  6]\n",
            " [ 2  0  0  0  1  0  0  0  3  1]\n",
            " [ 0  0  0  0  0  0 10  0  0  0]\n",
            " [ 0  0  1  0  0  0  0  8  0  6]\n",
            " [ 1  0  0  0  0  0  0  0  1  0]\n",
            " [ 0  2  0  0  0  0  0  0  0  9]]\n",
            "Some images with wrong predictions\n"
          ],
          "name": "stdout"
        },
        {
          "output_type": "display_data",
          "data": {
            "image/png": "[encoded data removed]",
            "text/plain": [
              "<Figure size 720x720 with 20 Axes>"
            ]
          },
          "metadata": {
            "tags": [],
            "needs_background": "light"
          }
        }
      ]
    },
    {
      "cell_type": "code",
      "metadata": {
        "colab": {
          "base_uri": "https://localhost:8080/"
        },
        "id": "Lz-k1DL-bG9v",
        "outputId": "fd8d5967-c252-4513-a8f0-abf08ec7f420"
      },
      "source": [
        "%%time\r\n",
        "nb = NaiveBayes(x_train_r,y_train)\r\n",
        "preds = [ nb.predict(i) for i in x_test_r[:100]]"
      ],
      "execution_count": null,
      "outputs": [
        {
          "output_type": "stream",
          "text": [
            "CPU times: user 20.3 s, sys: 3.11 ms, total: 20.3 s\n",
            "Wall time: 20.4 s\n"
          ],
          "name": "stdout"
        }
      ]
    },
    {
      "cell_type": "code",
      "metadata": {
        "colab": {
          "base_uri": "https://localhost:8080/"
        },
        "id": "tHoJZC5RbK60",
        "outputId": "8c8a9251-4e54-4336-ef00-c7097a5aa55a"
      },
      "source": [
        "%%time\r\n",
        "gnb = GaussianNB()\r\n",
        "y_pred = gnb.fit(x_train, y_train).predict(x_test[:100])"
      ],
      "execution_count": null,
      "outputs": [
        {
          "output_type": "stream",
          "text": [
            "CPU times: user 324 ms, sys: 4.97 ms, total: 329 ms\n",
            "Wall time: 333 ms\n"
          ],
          "name": "stdout"
        }
      ]
    },
    {
      "cell_type": "markdown",
      "metadata": {
        "id": "SAmP4BrCbOB9"
      },
      "source": [
        "## Σχολιασμός\r\n",
        "Αρχικά υλοποιήσαμε την πιθανότητα p(x|i) που είναι η πιθανότητα το Pixel x να είναι αναμένο δεδομένου ότι ανήκει στην κατηγορία i για όλα τα x και όλες τις κατηγορίες.\r\n",
        "\r\n",
        "Στην συνέχεια υλοποιήσαμε την πιθανότητα p(i|x) σύμφωνα με τον τύπο παρακάτω.\r\n",
        "$$p(i|x)=\\frac{p(i)\\cdot{\\prod_{k=1}^p}p(x^{(k)}|i)}{\\sum_{j=1}^pp(x^{(k)}|j)}$$\r\n",
        "\r\n",
        "Κατόπιν, αγνοώντας τον παρονομαστή, αφού ήταν παντού ίδιος, επιλέξαμε την μεγαλτερη πιθανότητα που προέκυψε. Για τον αριθμιτή αν το pixel που εξετάζαμε ήταν αναμένο(ίσο με 1) παίρναμε την πιθανότητα που είχαμε ήδη υπολογίσει, ενώ αν ήταν σβηστό παίρναμε την συμπληρωματική πιθανότητα.\r\n",
        "\r\n",
        "Τα αποτελέσματα που προέκυψαν ήταν 85% accuracy για τον ταξινομητή που υλοποιήσαμε ένω για τον ετοιμό με συνεχή pixel και την παραδοχή για κανονική κατανομή 60%. Φαίνεται πως ο ταξινομητής που υλοποιήσαμε ανταποκρίνεται καλύτερα στο προβλημά μας παρά την απλότητα του. Επιπλέον, σε σύγκριση που έγινε για τον  έτοιμο ταξινομητή με εφαρμογή του με συνεχείς τιμές στα pixel και με στρογγυλοποιημένες, οδηγούμαστε στο συμπέρασμα ότι έχει καλύτερη απόδοση με συνεχείς τιμές.\r\n",
        "\r\n",
        "Τέλος, το σχολίο που μπορούμε να κάνουμε για τον χρόνο εκτέλεσης των μοντέλων ταξινόμησης είναι ότι ο έτοιμος ταξινομητής είναι αρκετά πιο γρήγορος από αυτόν που υλοποιήσαμε μόνοι μας."
      ]
    },
    {
      "cell_type": "markdown",
      "metadata": {
        "id": "Vvw-OUkjbRb9"
      },
      "source": [
        "#4ο Μέρος: Multi-Layer Perceptron \r\n",
        "\r\n",
        "Σε αυτό το σημείο της άσκησης θα επιλύσετε το παραπάνω πρόβλημα κατασκευάζοντας ένα πολύεπίπεδο νευρωνικό δίκτυο. Αρχικά θα υλοποιήσετε το νευρωνικό χωρίς να χρησιμοποιήσετε κάποια έτοιμη κλάση κάποιας βιβλιοθήκης (όπως sckit-learn, keras), ενώ στην συνέχεια θα κατασκευάσετε το ίδιο σύστημα με την χρήση της βιβλιοθήκης sckit-learn. "
      ]
    },
    {
      "cell_type": "markdown",
      "metadata": {
        "id": "vovDwSIPbTiE"
      },
      "source": [
        "Στο παρακάτω κελί κώδικα σας δίνεται η βασική δομή του επιπέδου ενός πολυεπίπεδου νευρωνικού δικτύου. Η παρακάτω κλάση δεν υλοποιεί κάποιο πραγματικό επίπεδο (όπως Dense) αλλά αυτή χρησιμοποιείται για την παρουσίαση των λειτουργιών κάθε επιπέδου.\r\n",
        "\r\n",
        "Ουσιαστικά κάθε επίπεδο ενός νευρωνικού δικτύου πρέπει να είναι σε θέση να κάνει: \r\n",
        "\r\n",
        "\r\n",
        "1.   Για μια είσοδο να υπολογίζει την έξοδο κάθε νευρώνα. Αυτό επιτυγχάνεται μέσω της μεθόδου forward η όποια δέχεται ως όρισμα μια είσοδο  και επιστρέφει έναν πίνακα με τις εξόδους κάθε νευρώνα του επιπέδου. \r\n",
        "\r\n",
        "2.   Να υπολογίζει τις μεταβολές οι όποιες πρέπει να γίνουν στα βάρη κάθε επιπέδου, ανάλογα με το πόσο καλά- κοντινά ήταν τα αποτελέσματα του επιπέδου στα πραγματικά. Η λειτουργία αυτή θα μας βοηθήσει την ανανέωση των βαρών του δικτύου και συνεπώς στην σωστή εκπαίδευσή του. Η λειτουργικότητα αυτή επιτυγχάνεται μέσω της μεθόδου backward. \r\n",
        "\r\n",
        "  \r\n",
        "\r\n",
        "Η λειτουργικότητα συνεπώς κάθε επιπέδου καθορίζεται από την συνάρτηση που υλοποιείται στην μέθοδο forward. Ένα instance της παρακάτω κλάσης συνεπώς  επιστρέφει ως έξοδο την είσοδο κάθε νευρώνα (ταυτοτική συνάρτηση) όποτε δεν προσφέρει κάποια υψηλή λειτουργικότητα. Στην παρακάτω κλάση δεν έχετε να προσθέσετε κάτι, απλά να μελετήσετε και να καταλάβετε την δομή που πρέπει να έχει ένα επίπεδο. "
      ]
    },
    {
      "cell_type": "code",
      "metadata": {
        "id": "jgx1VIMmbMQP"
      },
      "source": [
        "class Layer:\r\n",
        "    def __init__(self):\r\n",
        "        \"\"\"Here we can initialize layer parameters (if any) and auxiliary stuff.\"\"\"\r\n",
        "        # A dummy layer does nothing\r\n",
        "        pass\r\n",
        "    \r\n",
        "    def forward(self, input):\r\n",
        "        \"\"\"\r\n",
        "        Takes input data of shape [batch, input_units], returns output data [batch, output_units]\r\n",
        "        \"\"\"\r\n",
        "        # A dummy layer just returns whatever it gets as input.\r\n",
        "        return input\r\n",
        "\r\n",
        "    def backward(self, input, grad_output):\r\n",
        "        # The gradient of a dummy layer is precisely grad_output, but we'll write it more explicitly\r\n",
        "        num_units = input.shape[1]\r\n",
        "        \r\n",
        "        d_layer_d_input = np.eye(num_units)\r\n",
        "        \r\n",
        "        return np.dot(grad_output, d_layer_d_input) # chain rule"
      ],
      "execution_count": null,
      "outputs": []
    },
    {
      "cell_type": "markdown",
      "metadata": {
        "id": "r1iQCroAbV-F"
      },
      "source": [
        "Στο σημείο αυτό αξίζει να αναφερθεί ότι για την σωστή εκπαίδευση του δικτύου (σε πρακτικό επίπεδο) πρέπει να διαχωριστεί η έξοδος κάθε νευρώνα πριν και μετά την συνάρτηση ενεργοποίησης. Έτσι η παραπάνω μέθοδος forward της κλάσης layer πρέπει να υπολογίζει την έξοδο του επιπέδου χωρίς την συνάρτηση ενεργοποίησης και κάποια άλλη κλάση να υπολογίζει το αποτέλεσμα με αυτή.  \r\n",
        "\r\n",
        "  \r\n",
        "\r\n",
        "Έκτος όμως από την εκπαίδευση του δικτύου, ο διαχωρισμός αυτός μας βοηθά σημαντικά και κατά την φάση σχεδιασμού της  αρχιτεκτονικής μιας και μας δίνει την δυνατότητα να αλλάζουμε την συνάρτηση ενεργοποίησης χωρίς κάθε φόρα να πρέπει να αλλάξουμε ολόκληρη την κλάση layer. Για τους παραπάνω λόγους θα χειριζόμαστε την συνάρτηση ενεργοποίησης σαν ένα ξεχωριστό επίπεδο με τις δικές της μεθόδους: forward, backward.  \r\n",
        "\r\n",
        "  \r\n",
        "\r\n",
        "Παρακάτω παρουσιάζεται η κλάση η όποια υλοποιεί την λειτουργικότητα της συνάρτησης ενεργοποίησης [ReLU](https://en.wikipedia.org/wiki/Rectifier_(neural_networks)).  \r\n",
        "\r\n",
        "  \r\n",
        "\r\n",
        "Με την ίδια λογική μπορούμε να υλοποιήσουμε οποιαδήποτε άλλη συνάρτηση ενεργοποίησης θέλουμε π.χ. sigmoid, tanh κ.ο.κ. και επιπλέον μπορούμε να τις εναλλάσσουμε μεταξύ επιπέδων χωρίς δυσκολία. "
      ]
    },
    {
      "cell_type": "code",
      "metadata": {
        "id": "6P33228VbYIf"
      },
      "source": [
        "class ReLU(Layer):\r\n",
        "    def __init__(self):\r\n",
        "        \"\"\"ReLU layer simply applies elementwise rectified linear unit to all inputs\"\"\"\r\n",
        "        pass\r\n",
        "    \r\n",
        "    def forward(self, input):\r\n",
        "        \"\"\"Apply elementwise ReLU to [batch, input_units] matrix\"\"\"\r\n",
        "        relu_forward = np.maximum(0,input)\r\n",
        "        return relu_forward\r\n",
        "    \r\n",
        "    def backward(self, input, grad_output):\r\n",
        "        \"\"\"Compute gradient of loss w.r.t. ReLU input\"\"\"\r\n",
        "        relu_grad = input > 0\r\n",
        "        return grad_output*relu_grad"
      ],
      "execution_count": null,
      "outputs": []
    },
    {
      "cell_type": "markdown",
      "metadata": {
        "id": "Rrrub_76ba19"
      },
      "source": [
        "Η κλάση Dense υλοποιεί ένα επίπεδο dense όπου η έξοδος κάθε νευρώνα (χωρίς τη  συνάρτηση ενεργοποίησης) υπολογίζεται από την παρακάτω εξίσωση: \r\n",
        "\r\n",
        "  \r\n",
        "\r\n",
        "  \r\n",
        "\r\n",
        "$$ z(x) = w^Τx + b $$ \r\n",
        "\r\n",
        "  \r\n",
        "\r\n",
        "όπου $w$, $b$ είναι τα βάρη του επιπέδου.   \r\n",
        "\r\n",
        "  \r\n",
        "\r\n",
        "Συνεπώς το δίκτυο είναι απαραίτητοί να διατηρεί 2 τους δυο πίνακες με τα βάρη οι όποιο στην μέθοδο forward θα χρησιμοποιούνται για τον υπολογισμό της εξόδου και θα ανανεώνονται από την μέθοδο backward. Οι πίνακες αυτοί δημιουργούνται κατά την κατασκευή κάθε στιγμιότυπου και αρχικοποιούνται, ο πρώτος τυχαία και ο δεύτερος με μηδενικά.  Στο σημείο αυτό καλείστε να συμπληρώσετε την μέθοδο forward με κατάλληλο τρόπο ώστε να επιτυγχάνεται επιθυμητή λειτουργικότητα. "
      ]
    },
    {
      "cell_type": "code",
      "metadata": {
        "id": "HEnuIuOHbZge"
      },
      "source": [
        "class Dense(Layer):\r\n",
        "    def __init__(self, input_units, output_units, learning_rate=0.1):\r\n",
        "        \"\"\"\r\n",
        "        Weight Initialization\r\n",
        "        \"\"\"\r\n",
        "        self.input_units = input_units\r\n",
        "        self.output_units = output_units\r\n",
        "        \r\n",
        "        self.learning_rate = learning_rate\r\n",
        "        self.weights = np.random.normal(loc=0.0, \r\n",
        "                                        scale = np.sqrt(2/(input_units+output_units)), \r\n",
        "                                        size = (input_units,output_units))\r\n",
        "        self.biases = np.zeros(output_units)\r\n",
        "        \r\n",
        "    def forward(self,input):\r\n",
        "        \"\"\"\r\n",
        "        Perform an affine transformation:\r\n",
        "        f(x) = <W*x> + b\r\n",
        "        \r\n",
        "        input shape: [number of inputs, input units]\r\n",
        "        output shape: [number of inputs, output units]\r\n",
        "        \"\"\"\r\n",
        "        ###################\r\n",
        "        ## Your code below\r\n",
        "        ## hint: numpy.dot\r\n",
        "        output = np.dot(input,self.weights) + self.biases\r\n",
        "\r\n",
        "        \r\n",
        "        ## Your code above\r\n",
        "        ##################\r\n",
        "        return output\r\n",
        "    \r\n",
        "    def backward(self,input,grad_output):\r\n",
        "        # compute d f / d x = d f / d dense * d dense / d x\r\n",
        "        # where d dense/ d x = weights transposed\r\n",
        "        grad_input = np.dot(grad_output, self.weights.T)\r\n",
        "        \r\n",
        "        # compute gradient w.r.t. weights and biases\r\n",
        "        grad_weights = np.dot(input.T, grad_output)\r\n",
        "        grad_biases = grad_output.mean(axis=0)*input.shape[0]\r\n",
        "        \r\n",
        "        assert grad_weights.shape == self.weights.shape and grad_biases.shape == self.biases.shape\r\n",
        "        \r\n",
        "        # Here we perform a stochastic gradient descent step. \r\n",
        "        self.weights = self.weights - self.learning_rate * grad_weights\r\n",
        "        self.biases = self.biases - self.learning_rate * grad_biases\r\n",
        "        \r\n",
        "        return grad_input"
      ],
      "execution_count": null,
      "outputs": []
    },
    {
      "cell_type": "markdown",
      "metadata": {
        "id": "Ml2jvLeybeRe"
      },
      "source": [
        "Οι παρακάτω συναρτήσεις χρησιμοποιούνται για να μπορεί το δίκτυο να ελέγχει πόσο κοντά βρίσκονται τα αποτελέσματα του στα πραγματικά (Loss function). Όπως είναι λογικό υπάρχουν διαφορετικές τέτοιες συναρτήσεις ανάλογα το πρόβλημα που καλείται να λύσει το δίκτυο. Η παρακάτω συνάρτηση ονομάζεται [softmax](https://en.wikipedia.org/wiki/Softmax_function) και χρησιμοποιείται κατά κύριο λόγο σε προβλήματα ταξινόμησης όπως το συγκεκριμένο. Η softmax δέχεται σαν είσοδο τις ενεργοποιήσεις του τελευταίου επιπέδου και επιστρέφει μια κατανομή πιθανοτήτων για κάθε μια από τις κλάσεις εξόδου (π.χ. κλάση 0 έχει πιθανότητα 0.001,  η κλάση 1 έχει 0.9 κ.ο.κ.).  "
      ]
    },
    {
      "cell_type": "code",
      "metadata": {
        "id": "qT7nl_1Gbc0B"
      },
      "source": [
        "def softmax_crossentropy_with_logits(logits,reference_answers):\r\n",
        "    \"\"\"Compute crossentropy from logits[batch,n_classes] and ids of correct answers\"\"\"\r\n",
        "    logits_for_answers = logits[np.arange(len(logits)),reference_answers]\r\n",
        "    xentropy = - logits_for_answers + np.log(np.sum(np.exp(logits),axis=-1))\r\n",
        "    return xentropy\r\n",
        "\r\n",
        "def grad_softmax_crossentropy_with_logits(logits,reference_answers):\r\n",
        "    \"\"\"Compute crossentropy gradient from logits[batch,n_classes] and ids of correct answers\"\"\"\r\n",
        "    ones_for_answers = np.zeros_like(logits)\r\n",
        "    ones_for_answers[np.arange(len(logits)),reference_answers] = 1\r\n",
        "    \r\n",
        "    softmax = np.exp(logits) / np.exp(logits).sum(axis=-1,keepdims=True)\r\n",
        "    \r\n",
        "    return (- ones_for_answers + softmax) / logits.shape[0]"
      ],
      "execution_count": null,
      "outputs": []
    },
    {
      "cell_type": "markdown",
      "metadata": {
        "id": "5XnSJjxYbhdX"
      },
      "source": [
        "Έχοντας υλοποιήσει τις κλάσεις Dense και ReLU μπορούμε πλέον να κατασκευάσουμε μια κλάση η όποια θα ορίζει ένα πολυεπίπεδο νευρωνικό δίκτυο (MLP). Το δίκτυο αυτό ουσιαστικά αποτελείται από μια ακολουθία Dense επιπέδων όπου το κάθε ένα (εκτός του τελευταίου) ακολουθείται από μια μη-γραμμική συνάρτηση ενεργοποίησης (ReLU). Όμοια με πριν, η κλάση αυτή πρέπει να περιέχει μια μέθοδο forward η όποια θα δέχεται μια είσοδο (εδώ μια εικόνα flatten) και θα επιστρέφει μια έξοδο (εδώ μια κατανομή 10 πιθανοτήτων). Παράλληλα πρέπει να περιέχει και μια μέθοδο fit, η όποια θα εκπαιδεύει το δίκτυο δεδομένου ενός τέτοιου συνόλου (εδώ του x_train). Στο σημείο αυτό χρησιμοποιούνται οι μέθοδοι backward που έχουν οριστεί για κάθε ένα επίπεδο (δεν χρειάζεται να συμπληρώσετε κάτι).  Τέλος θα ήταν βοηθητικό να έχουμε και μια μέθοδο η όποια θα μετατρέπει την κατανομή εξόδου στην επιστρεφόμενη κλάση (predict) για κάποιο ή κάποια στιγμιότυπα του συνόλου δεδομένων.   \r\n",
        "\r\n",
        "Το δίκτυο όπως αναφέρθηκε και προηγουμένως αποτελείται από έναν αριθμό Dense επιπέδων κάθε ένα από τα όποια ακολουθείται από μια συνάρτηση ReLU. Η κατασκευή των επιπέδων γίνεται κατά την στιγμή δημιουργίας του δικτύου, όπου δίνεται ως είσοδος μια λίστα με το μέγεθος κάθε επιπέδου, μαζί με το μέγεθος εισόδου (εδώ 28*28). Έτσι για παράδειγμα η παρακάτω γραμμή κώδικα:  \r\n",
        "``` \r\n",
        "net = MLP([100, 200, 100, 10], 784)  \r\n",
        "```  \r\n",
        "κατασκευάζει ένα MLP το όποιο αποτελείται από 4 επίπεδα με μέγεθος 100, 200, 100, 10. Ο αριθμός των επιπέδων καθώς και του μεγέθους καθενός από αυτά είναι ελεύθερος να οριστεί από τον χρήστη.   \r\n",
        "Στον constructor της κλάσης ουσιαστικά ορίζεται μια λίστα η όποια περιέχει κάθε ένα από τα επίπεδα που πρέπει να οριστούν, π.χ. για το παραπάνω παράδειγμα η μεταβλητή net.network περιέχει τα εξής στιγμιότυπα των κλάσεων:  \r\n",
        "\r\n",
        "``` \r\n",
        "[Dense(100), ReLU(), Dense(200), ReLU(), Dense(100), ReLU(), Dense(10)]  \r\n",
        "```  \r\n",
        "\r\n",
        "Συνεπώς η λειτουργικότητα του δικτύου όπως και πριν πρέπει να οριστεί στην μέθοδο forward. Στο σημείο αυτό καλείστε να συμπληρώσετε την μέθοδο αυτή έτσι ώστε το δίκτυο να λειτουργεί όπως πρέπει, δηλαδή στο παράδειγμά μας η είσοδος να περνά από το επίπεδο Dense(100), μετά από το ReLU(), στην συνέχεια από το Dense(200) κ.ο.κ. μέχρι και το τελευταίο επίπεδο.  Ο αλγόριθμος αυτός παρουσιάζεται και σε ψευδοκώδικα στην διαφάνεια 33 του μαθήματος. "
      ]
    },
    {
      "cell_type": "code",
      "metadata": {
        "id": "MHHcg1unbf21"
      },
      "source": [
        "class MLP:\r\n",
        "    def __init__(self, shapes, input_dim):\r\n",
        "        '''\r\n",
        "        Κατασκευή του MLP. Τα επίπεδα και το μέγεθός τους ορίζεται από την μεταβλήτη shape, ενώ\r\n",
        "        το μέγεθος της εισόδου ορίζεται από την μεταβλήτη input_dim\r\n",
        "        '''\r\n",
        "        self.shapes = shapes\r\n",
        "        self.network = [Dense(input_dim, shapes[0])]\r\n",
        "        self.network.append(ReLU())\r\n",
        "        for i in range(1, len(self.shapes) - 1):\r\n",
        "            self.network.append(Dense(shapes[i-1],shapes[i]))\r\n",
        "            self.network.append(ReLU())\r\n",
        "        self.network.append(Dense(shapes[i],shapes[-1]))\r\n",
        "\r\n",
        "    def forward(self, X):\r\n",
        "        \"\"\"\r\n",
        "        Αγόριθμος διφάνειας 33\r\n",
        "        \"\"\"\r\n",
        "        activations = []\r\n",
        "        input = X\r\n",
        "        # Looping through each layer\r\n",
        "        for l in self.network:\r\n",
        "            ###################\r\n",
        "            ## Your code below\r\n",
        "            # hint: τροφοδοτούμε την έξοδο κάθε επιπέδου στο επόμενο\r\n",
        "            a = l.forward(input)\r\n",
        "            input=a\r\n",
        "            activations.append(a)\r\n",
        "            pass\r\n",
        "\r\n",
        "            ## Your code above\r\n",
        "            ##################        \r\n",
        "        assert len(activations) == len(self.network)\r\n",
        "        return activations\r\n",
        "\r\n",
        "    def predict(self,X):\r\n",
        "        \"\"\"\r\n",
        "        Προβλέπει την έξοδο του δικτύου για ένα ή περισσότερα στιγμιότυπα εισόδου\r\n",
        "        \"\"\"\r\n",
        "        logits = self.forward(X)[-1]\r\n",
        "        return logits.argmax(axis=-1)\r\n",
        "\r\n",
        "    def fit(self, X, y):\r\n",
        "        # Get the layer activations\r\n",
        "        layer_activations = self.forward(X)\r\n",
        "        layer_inputs = [X]+layer_activations  #layer_input[i] is an input for network[i]\r\n",
        "        logits = layer_activations[-1]\r\n",
        "        \r\n",
        "        # Compute the loss and the initial gradient\r\n",
        "        loss = softmax_crossentropy_with_logits(logits,y)\r\n",
        "        loss_grad = grad_softmax_crossentropy_with_logits(logits,y)\r\n",
        "        \r\n",
        "        # Propagate gradients through the network\r\n",
        "        # Reverse propogation as this is backprop\r\n",
        "        for layer_index in range(len(self.network))[::-1]:\r\n",
        "            layer = self.network[layer_index]\r\n",
        "            loss_grad = layer.backward(layer_inputs[layer_index],loss_grad) #grad w.r.t. input, also weight updates\r\n",
        "        return np.mean(loss)"
      ],
      "execution_count": null,
      "outputs": []
    },
    {
      "cell_type": "markdown",
      "metadata": {
        "id": "6zCBcKqvbm4t"
      },
      "source": [
        "## Αξιολόγηση ενός Multi-Layer Perceptron\r\n",
        "\r\n",
        "Αφού έχουμε κατασκευάσει τα παραπάνω είμαστε πλέον σε θέση να εκπαιδεύσουμε το MLP. Αυτό γίνεται καλώντας την μέθοδο fit. Στο παρακάτω κελί κώδικα ορίζεται το MLP του παραπάνω παραδείγματος και εκπαιδεύεται για 25 εποχές. Στο τέλος κάθε εποχής παρουσιάζονται τα αποτελέσματα του μαζί με μια γραφική των train και test accuracy. "
      ]
    },
    {
      "cell_type": "code",
      "metadata": {
        "id": "4jw-8qN6bjQG",
        "colab": {
          "base_uri": "https://localhost:8080/",
          "height": 1000
        },
        "outputId": "e36f5f0f-ac2c-4d06-be0c-93dd9706d76d"
      },
      "source": [
        "from IPython.display import clear_output\r\n",
        "import numpy as np\r\n",
        "\r\n",
        "network = MLP([100, 200, 100, 10], 28*28)\r\n",
        "\r\n",
        "train_log = []\r\n",
        "val_log = []\r\n",
        "\r\n",
        "#Αυτά πρέπει να τρέχουν αφού έχετε φτιάξει σωστά τον κώδικα της MLP\r\n",
        "for epoch in range(25):\r\n",
        "     network.fit(x_train,y_train)\r\n",
        "    \r\n",
        "     train_log.append(np.mean(network.predict(x_train)==y_train))\r\n",
        "     val_log.append(np.mean(network.predict(x_test)==y_test))\r\n",
        "   \r\n",
        "     clear_output()\r\n",
        "     print(\"Epoch\",epoch)\r\n",
        "     print(\"Train accuracy:\",train_log[-1])\r\n",
        "     print(\"Val accuracy:\",val_log[-1])\r\n",
        "     plt.plot(train_log,label='train accuracy')\r\n",
        "     plt.plot(val_log,label='val accuracy')\r\n",
        "     plt.legend(loc='best')\r\n",
        "     plt.grid()\r\n",
        "     plt.show()\r\n",
        "\r\n",
        "y_pred = network.predict(x_test)\r\n",
        "\r\n",
        "eval = Evaluate(y_test, y_pred, x_test)\r\n",
        "eval.get_evaluation_report()"
      ],
      "execution_count": null,
      "outputs": [
        {
          "output_type": "stream",
          "text": [
            "Epoch 24\n",
            "Train accuracy: 0.69625\n",
            "Val accuracy: 0.6967\n"
          ],
          "name": "stdout"
        },
        {
          "output_type": "display_data",
          "data": {
            "image/png": "[encoded data removed]",
            "text/plain": [
              "<Figure size 432x288 with 1 Axes>"
            ]
          },
          "metadata": {
            "tags": [],
            "needs_background": "light"
          }
        },
        {
          "output_type": "stream",
          "text": [
            "precision : 0.7003131677542667\n",
            "recall : 0.6883004781620784\n",
            "f1 : 0.676454438347591\n",
            "accuracy : 0.6967\n",
            "Confusion matrix: \n",
            "[[ 935    1    2    2    0    3   34    2    1    0]\n",
            " [   0 1103    8    6    1    0    1    0   16    0]\n",
            " [  42  111  733   42   38    0   22   12   19   13]\n",
            " [  22   91   38  758    3   18   20   21   27   12]\n",
            " [   6   12    3    0  608    1   24   10    4  314]\n",
            " [  75   56   22  214   16  215   67   95   89   43]\n",
            " [  53   11   24   12   29   26  788    1   10    4]\n",
            " [  13   77   29    2   59    0    3  725   13  107]\n",
            " [  34  135   91   72   16   43   30   51  455   47]\n",
            " [  18   27    6    4  240    2    6   52    7  647]]\n",
            "Some images with wrong predictions\n"
          ],
          "name": "stdout"
        },
        {
          "output_type": "display_data",
          "data": {
            "image/png": "[encoded data removed]",
            "text/plain": [
              "<Figure size 720x720 with 20 Axes>"
            ]
          },
          "metadata": {
            "tags": [],
            "needs_background": "light"
          }
        }
      ]
    },
    {
      "cell_type": "markdown",
      "metadata": {
        "id": "ygud3NX3b-wN"
      },
      "source": [
        "## Έτοιμο Multi-Layer Perceptron \r\n",
        "\r\n",
        "Όπως και με τις τεχνικές των παραπάνω ερωτημάτων έτσι και εδώ υπάρχει έτοιμη η παραπάνω κλάση σε διάφορες βιβλιοθήκες. Έτσι στο δεύτερο μέρος του ερωτήματος αυτού θα κατασκευάσετε το ίδιο MLP χρησιμοποιώντας όμως την έτοιμη κλάση [MLPClassifier](https://scikit-learn.org/stable/modules/generated/sklearn.neural_network.MLPClassifier.html)  της βιβλιοθήκης scikit-learn. Παρακάτω παρουσιάζεται ένα παράδειγμα χρήσης της κλάσης αυτής. "
      ]
    },
    {
      "cell_type": "code",
      "metadata": {
        "colab": {
          "base_uri": "https://localhost:8080/",
          "height": 951
        },
        "id": "hltXBE2Vbojo",
        "outputId": "57c4c049-853c-4942-e34c-b45605393a96"
      },
      "source": [
        "%%time\r\n",
        "from sklearn.neural_network import MLPClassifier\r\n",
        "\r\n",
        "epochs = 25\r\n",
        "mlp = MLPClassifier(hidden_layer_sizes=(100, 200, 100), max_iter = epochs)\r\n",
        "\r\n",
        "mlp.fit(x_train,y_train)\r\n",
        "\r\n",
        "y_pred = mlp.predict(x_test)\r\n",
        "eval = Evaluate(y_test, y_pred, x_test)\r\n",
        "eval.get_evaluation_report()"
      ],
      "execution_count": null,
      "outputs": [
        {
          "output_type": "stream",
          "text": [
            "/usr/local/lib/python3.6/dist-packages/sklearn/neural_network/_multilayer_perceptron.py:571: ConvergenceWarning: Stochastic Optimizer: Maximum iterations (25) reached and the optimization hasn't converged yet.\n",
            "  % self.max_iter, ConvergenceWarning)\n"
          ],
          "name": "stderr"
        },
        {
          "output_type": "stream",
          "text": [
            "precision : 0.9693081414465545\n",
            "recall : 0.9690142982482202\n",
            "f1 : 0.9691321032639013\n",
            "accuracy : 0.9694\n",
            "Confusion matrix: \n",
            "[[ 968    1    1    0    0    2    3    1    2    2]\n",
            " [   0 1125    4    1    0    0    3    0    2    0]\n",
            " [   6    4  995    7    3    0    5    7    5    0]\n",
            " [   1    0    7  974    2    5    0    8   12    1]\n",
            " [   2    0    4    0  951    0    4    5    2   14]\n",
            " [   5    1    1    8    3  855   10    1    7    1]\n",
            " [   9    3    2    1    4    4  932    1    2    0]\n",
            " [   0    5   10    2    1    0    0 1000    1    9]\n",
            " [   6    1    4    9    3    6    4    8  927    6]\n",
            " [   4    3    0    9   11    2    0    7    6  967]]\n",
            "Some images with wrong predictions\n",
            "CPU times: user 39 s, sys: 15.4 s, total: 54.4 s\n",
            "Wall time: 27.9 s\n"
          ],
          "name": "stdout"
        },
        {
          "output_type": "display_data",
          "data": {
            "image/png": "[encoded data removed]",
            "text/plain": [
              "<Figure size 720x720 with 20 Axes>"
            ]
          },
          "metadata": {
            "tags": [],
            "needs_background": "light"
          }
        }
      ]
    },
    {
      "cell_type": "markdown",
      "metadata": {
        "id": "DOQYML9wcDBk"
      },
      "source": [
        "## Σύγκριση υλοποιήσεων \r\n",
        "\r\n",
        "  \r\n",
        "\r\n",
        "Στα παρακάτω κελιά πειραματιστείτε με τις δύο υλοποιήσεις (τη δική σας και την έτοιμη). Συγκρίνετε τα αποτελέσματά σας τόσο ως προς τους χρόνους εκτέλεσης αλλά και ως προς τα αποτελέσματα. Η διαφορά των αποτελεσμάτων προκύπτει από το ότι στην έτοιμη κλάση έχουν γίνει αρκετές βελτιστοποιήσεις στην λειτουργία, στον τρόπο εκπαίδευσης κ.α. με αποτέλεσμα να προκύπτουν καλύτερα αποτέλεσμα. Παρόλα αυτά στην δική μας κλάση έχουμε καλύτερο έλεγχο και έχουμε την δυνατότητα να σχεδιάσουμε πιο σύνθετες αρχιτεκτονικές καθώς να αλλάξουμε τις τιμές παραμέτρων που στην έτοιμη κλάση μπορεί να μην μας δίνεται η δυνατότητα. "
      ]
    },
    {
      "cell_type": "markdown",
      "metadata": {
        "id": "tg8o8LIYouo6"
      },
      "source": [
        "Παρακάτω θα δούμε πως επηρεάζει το πλήθος των εποχών τις επιδόσεις του μοντέλου μας καθώς και τροποποιήσεις στα layers του μοντέλου μας."
      ]
    },
    {
      "cell_type": "code",
      "metadata": {
        "colab": {
          "base_uri": "https://localhost:8080/"
        },
        "id": "3LfI__5Cqjzp",
        "outputId": "4beddebc-963c-4307-eeeb-4a569626baff"
      },
      "source": [
        "e=[25, 50, 75, 100, 125,150]\r\n",
        "accM=[]\r\n",
        "timesM=[]\r\n",
        "acc=[]\r\n",
        "times=[]\r\n",
        "\r\n",
        "for epochs in e:\r\n",
        "  import numpy as np\r\n",
        "\r\n",
        "  network = MLP([100, 200, 100, 10], 28*28)\r\n",
        "  from time import time\r\n",
        "  t1=time()\r\n",
        "  #Η δικία μας υλοποίηση της MLP\r\n",
        "  for epoch in range(epochs):\r\n",
        "    network.fit(x_train,y_train)\r\n",
        "    \r\n",
        "  timesM.append(time()-t1)\r\n",
        "  y_pred = network.predict(x_test)\r\n",
        "  eval = Evaluate(y_test, y_pred, x_test)\r\n",
        "  accM.append(eval.my_accuracy())\r\n",
        "\r\n",
        "  #Ο έτοιμος MLP\r\n",
        "  t2=time()\r\n",
        "  mlp = MLPClassifier(hidden_layer_sizes=(100, 200, 100), max_iter = epochs)\r\n",
        "\r\n",
        "  mlp.fit(x_train,y_train)\r\n",
        "\r\n",
        "  y_pred = mlp.predict(x_test)\r\n",
        "  times.append(time()-t2)\r\n",
        "  eval = Evaluate(y_test, y_pred, x_test)\r\n",
        "  acc.append(eval.my_accuracy())"
      ],
      "execution_count": null,
      "outputs": [
        {
          "output_type": "stream",
          "text": [
            "/usr/local/lib/python3.6/dist-packages/sklearn/neural_network/_multilayer_perceptron.py:571: ConvergenceWarning: Stochastic Optimizer: Maximum iterations (25) reached and the optimization hasn't converged yet.\n",
            "  % self.max_iter, ConvergenceWarning)\n"
          ],
          "name": "stderr"
        }
      ]
    },
    {
      "cell_type": "code",
      "metadata": {
        "colab": {
          "base_uri": "https://localhost:8080/",
          "height": 227
        },
        "id": "1J2nb_SyuHqG",
        "outputId": "ab08d6ee-49c6-4da9-e0ac-f65a0e3615c7"
      },
      "source": [
        "import matplotlib.pyplot as plt\r\n",
        "\r\n",
        "\r\n",
        "t = [25,50,75,100,125,150]\r\n",
        "\r\n",
        "fig, (ax1, ax2) = plt.subplots(1,2, figsize=(10,3))\r\n",
        "ax1.set_title('Time')\r\n",
        "ax1.plot(t, timesM, lw=2, label='MLP_mine', color='red')\r\n",
        "ax1.plot(t, times, lw=2, label='MLP_sklearn', color='blue')\r\n",
        "leg = ax1.legend(fancybox=True, shadow=True)\r\n",
        "\r\n",
        "ax2.set_title('Accuracy')\r\n",
        "ax2.plot(t, accM, lw=2, label='MLP_mine', color='red')\r\n",
        "ax2.plot(t, acc, lw=2, label='MLP_sklearn', color='blue')\r\n",
        "leg2 = ax2.legend(fancybox=True, shadow=True)"
      ],
      "execution_count": null,
      "outputs": [
        {
          "output_type": "display_data",
          "data": {
            "image/png": "[encoded data removed]",
            "text/plain": [
              "<Figure size 720x216 with 2 Axes>"
            ]
          },
          "metadata": {
            "tags": [],
            "needs_background": "light"
          }
        }
      ]
    },
    {
      "cell_type": "markdown",
      "metadata": {
        "id": "sLB7KaplL8dC"
      },
      "source": [
        "Με την αύξηση των εποχών παρατηρούμε καλύτερες επιδόσεις στο accuracy καθώς προλαβαίνει το μοντέλο μας να εκπαιδευτεί καλύτερα (από ~69% φτάνουμε σε ~90%). Ωστόσο παρατηρούμε ότι μετά απο ένα σημείο δεν υπάρχει ικανοποιητική αύξηση στην επίδοση καθώς για πάνω απο 100 epochs τα αποτελέσματα δεν βελτιώνοναται σημαντικά. Σε αυτό το σημείο καταλαβαίνουμε ότι για να αυξηθεί παραπάνω η μετρική accuracy πρέπει να αλλάξουμε την αρχιτεκτονική του μοντέλου μας. \r\n",
        "\r\n",
        "Αντιθέτως για το μοντέλο που πήραμε έτοιμο από την βιβλιοθήκη παρατηρούμε εμφανώς καλύτερες επίδοσεις καθώς το accuracy φτάνει ~98%. Ωστόσο και σε αυτή την περιπτώση παρατηρούμε οτί για περεταίρω βελτίωση, αν αυτό είναι εφικτό, χρειάζεται να αλλαχθεί η αρχιτεκτονική του μοντέλου.\r\n",
        "\r\n",
        "Σχετικά με τον χρόνο εκτέλεσεις των παραπάνω δοκιμών παρατηρούμε οτί στην δική μας υλοποίηση ο χρόνο αυξάνεται γραμμικά με την αύξηση των εποχών κατί το οποίο ήταν αναμενόμενο. Αντιθέτως στους έτοιμους ταξινομητές η όλη διαδικασία γίνεται πολύ πιο γρήγορα καθώς έχουν γίνει αρκετές βελτιστοποιήσεις στην λειτουργία και στον τρόπο εκπαίδευσης. Επιπλέον φαίνεται ξεκάθαρα ότι ειναι υλοποιημένοι έτσι ώστε να αποκρίνονται καλά και σε μεγάλες εποχές.\r\n",
        "\r\n",
        "Παρακάτω θα δοκιμάσουμε να βελτιώσουμε τις επιδόσεις των ταξινομητών μας αυξάνοντας τα layers του αρχικού μας μοντέλου."
      ]
    },
    {
      "cell_type": "code",
      "metadata": {
        "colab": {
          "base_uri": "https://localhost:8080/"
        },
        "id": "qXHhMa5fF4VU",
        "outputId": "a4224474-d856-4d1f-9a2f-b2476cbb4736"
      },
      "source": [
        "e=[25, 50, 75, 100, 125,150]\r\n",
        "acc35=[]\r\n",
        "times35=[]\r\n",
        "acc35S=[]\r\n",
        "times35S=[]\r\n",
        "\r\n",
        "for epochs in e:\r\n",
        "  import numpy as np\r\n",
        "\r\n",
        "  network = MLP([100, 200, 200, 200, 100, 10], 28*28)\r\n",
        "  from time import time\r\n",
        "  t1=time()\r\n",
        "  #Η δικία μας υλοποίηση της MLP\r\n",
        "  for epoch in range(epochs):\r\n",
        "    network.fit(x_train,y_train)\r\n",
        "    \r\n",
        "  times35.append(time()-t1)\r\n",
        "  y_pred = network.predict(x_test)\r\n",
        "  eval = Evaluate(y_test, y_pred, x_test)\r\n",
        "  acc35.append(eval.my_accuracy())\r\n",
        "\r\n",
        "  #Ο έτοιμος MLP\r\n",
        "  t2=time()\r\n",
        "  mlp = MLPClassifier(hidden_layer_sizes=(100, 200, 200, 200, 100), max_iter = epochs)\r\n",
        "\r\n",
        "  mlp.fit(x_train,y_train)\r\n",
        "\r\n",
        "  y_pred = mlp.predict(x_test)\r\n",
        "  times35S.append(time()-t2)\r\n",
        "  eval = Evaluate(y_test, y_pred, x_test)\r\n",
        "  acc35S.append(eval.my_accuracy())"
      ],
      "execution_count": null,
      "outputs": [
        {
          "output_type": "stream",
          "text": [
            "/usr/local/lib/python3.6/dist-packages/sklearn/neural_network/_multilayer_perceptron.py:571: ConvergenceWarning: Stochastic Optimizer: Maximum iterations (25) reached and the optimization hasn't converged yet.\n",
            "  % self.max_iter, ConvergenceWarning)\n"
          ],
          "name": "stderr"
        }
      ]
    },
    {
      "cell_type": "code",
      "metadata": {
        "colab": {
          "base_uri": "https://localhost:8080/",
          "height": 227
        },
        "id": "AhjefUZaCdwl",
        "outputId": "8ede14b0-95a2-41b5-8e20-d995071385c6"
      },
      "source": [
        "import matplotlib.pyplot as plt\r\n",
        "\r\n",
        "\r\n",
        "t = [25,50,75,100,125,150]\r\n",
        "\r\n",
        "fig, (ax1, ax2) = plt.subplots(1,2, figsize=(10,3))\r\n",
        "ax1.set_title('Time')\r\n",
        "ax1.plot(t, timesM, lw=2, label='MLP_mine', color='red')\r\n",
        "ax1.plot(t, times, lw=2, label='MLP_sklearn', color='blue')\r\n",
        "ax1.plot(t, times35, lw=2, label='MLP_mine_extra_5', color='orange')\r\n",
        "ax1.plot(t, times35S, lw=2, label='MLP_sklearn_extra_5', color='pink')\r\n",
        "leg = ax1.legend(fancybox=True, shadow=True)\r\n",
        "\r\n",
        "ax2.set_title('Accuracy')\r\n",
        "ax2.plot(t, accM, lw=2, label='MLP_mine', color='red')\r\n",
        "ax2.plot(t, acc, lw=2, label='MLP_sklearn', color='blue')\r\n",
        "ax2.plot(t, acc35, lw=2, label='MLP_mine_extra_5', color='orange')\r\n",
        "ax2.plot(t, acc35S, lw=2, label='MLP_sklearn_extra_5', color='pink')\r\n",
        "leg2 = ax2.legend(fancybox=True, shadow=True)"
      ],
      "execution_count": null,
      "outputs": [
        {
          "output_type": "display_data",
          "data": {
            "image/png": "[encoded data removed]",
            "text/plain": [
              "<Figure size 720x216 with 2 Axes>"
            ]
          },
          "metadata": {
            "tags": [],
            "needs_background": "light"
          }
        }
      ]
    },
    {
      "cell_type": "markdown",
      "metadata": {
        "id": "PFBnD60N3QQX"
      },
      "source": [
        "Στις παραπάνω γραφικές φαίνονται και τα αποτελέσματα για ένα μοντέλο με 5 επίπεδα (προστέθηκαν άλλα 2 επίπεδα με πλήθος 200).\r\n",
        "\r\n",
        "Σχετικά με τον χρόνο παρατηρούμε ότι τόσο η δική μας υλοποίηση όσο και της βιβλιοθήκης απαιτούν περισσότερη ώρα. Αυτό μοιάζει λογικό καθώς αυξάνεται η πολυπλοκοτήτα του μοντέλου και οι παράμετροι που χρειάζεται να βελτιστοποιηθούν.\r\n",
        "\r\n",
        "Σχετικά με το accuracy στον έτοιμο ταξινομητή παρατηρούμε ότι δεν υπάρχει κάποια βελτίωση στην μετρηκή με την προσθήκη layers. Στην δικιά μας υλοποίηση παρατηρούμε ότι η επίδοση πέφτει ακόμα περισσότερο για μικρές εποχές αλλα και για μεγελύτερες παρατηρούμε ότι η μετρική accuracy είναι πιο χαμήλη από την αντίστοιχη του αρχικού μοντέλου."
      ]
    },
    {
      "cell_type": "markdown",
      "metadata": {
        "id": "gfrx064gcCr8"
      },
      "source": [
        "# Αξιολόγηση- Συμπεράσματα \r\n",
        "\r\n",
        "  \r\n",
        "\r\n",
        "Λαμβάνοντας υπ'όψιν μας όλα τα παραπάνω καταλήγουμε στα ακόλουθα συμπεράσματα για τις 3 τεχνικές ταξινόμησης που μελετήσαμε. Αρχικά βλέπουμε ότι καλύτερα αποτελέσματα στις προβλέψεις μας έχουμε με τον kNN ταξινομητή και επείτα με τον MLP. Αν μας ρώταγαν να διαλέξουμε το καλύτερο μοντέλο για τον συγκεκριμένο πρόβλημα θα λέγαμε του kNN καθώς η πολυπλοκότητα του είναι μικρότερη από αυτήν του MLP και ο χρόνος εκτελεσής του πιο σύντομος. Ακόμη η μετρική accuracy είναι ~(1-2)% καλύτερη. Σχετικά με τον Naive Bayes μπορούμε να πούμε ότι πετυχαίνει σχετικά καλά αποτελέσματα 85% και χρονικά έχει πολύ χαμηλό κόστος, σαν τον kNN. Παρόλα αυτά επειδή οι άλλοι δύο ταξινομητές πετυχαίνουν καλύτερα αποτελέσματα καταλήγουμε στον συμπέρασμα ότι είναι πιο κατάλληλοι για το συγκεκριμένο πρόβλημα με το συγκεκριμένο dataset."
      ]
    },
    {
      "cell_type": "code",
      "metadata": {
        "id": "ciG0x0YFReoy"
      },
      "source": [
        ""
      ],
      "execution_count": null,
      "outputs": []
    }
  ]
}